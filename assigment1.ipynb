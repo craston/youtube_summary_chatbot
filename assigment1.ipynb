{
 "cells": [
  {
   "cell_type": "code",
   "execution_count": 1,
   "metadata": {},
   "outputs": [
    {
     "name": "stderr",
     "output_type": "stream",
     "text": [
      "/Users/nievescrasto/code/LLM_based_video_query/.llm_query_env/lib/python3.10/site-packages/tqdm/auto.py:21: TqdmWarning: IProgress not found. Please update jupyter and ipywidgets. See https://ipywidgets.readthedocs.io/en/stable/user_install.html\n",
      "  from .autonotebook import tqdm as notebook_tqdm\n"
     ]
    }
   ],
   "source": [
    "import os\n",
    "from dotenv import load_dotenv\n",
    "assert os.getenv(\"OPENAI_API_KEY\") is not None\n",
    "\n",
    "import gradio as gr\n",
    "\n",
    "from langchain_openai import OpenAIEmbeddings\n",
    "from langchain_openai.chat_models import ChatOpenAI\n",
    "\n",
    "from langchain_community.vectorstores.faiss import FAISS\n",
    "\n",
    "from langchain_core.prompts import ChatPromptTemplate\n",
    "from langchain_core.messages import get_buffer_string\n",
    "from langchain_core.runnables import RunnableLambda\n",
    "from langchain_core.runnables import RunnablePassthrough\n",
    "from langchain_core.output_parsers import StrOutputParser\n",
    "from langchain_core.vectorstores import VectorStoreRetriever\n",
    "from langchain.document_loaders import YoutubeLoader\n",
    "from langchain.schema import format_document\n",
    "from langchain.prompts.prompt import PromptTemplate\n",
    "\n",
    "from langchain.memory import ConversationBufferMemory\n",
    "\n",
    "from operator import itemgetter"
   ]
  },
  {
   "cell_type": "code",
   "execution_count": 3,
   "metadata": {},
   "outputs": [],
   "source": [
    "def generate_retriever_from_videourl(youtube_url:str) -> VectorStoreRetriever:\n",
    "    transcript_loader = YoutubeLoader.from_youtube_url(youtube_url, language=\"en\")\n",
    "    transcript = transcript_loader.load()\n",
    "    oai_embedding_model = OpenAIEmbeddings()\n",
    "    vector_store = FAISS.from_documents(transcript, oai_embedding_model)\n",
    "    faiss_retriever = vector_store.as_retriever()\n",
    "    return faiss_retriever"
   ]
  },
  {
   "cell_type": "code",
   "execution_count": 5,
   "metadata": {},
   "outputs": [],
   "source": [
    "def prompts_templates()-> tuple[PromptTemplate, PromptTemplate, PromptTemplate]:\n",
    "    _template = \"\"\"Given the following conversation and a follow up question, \n",
    "    rephrase the follow up question to be a standalone question.\n",
    "\n",
    "    Chat History:\n",
    "    {chat_history}\n",
    "    Follow Up Input: {question}\n",
    "    Standalone question:\"\"\"\n",
    "    CONDENSE_QUESTION_PROMPT = PromptTemplate.from_template(_template)\n",
    "\n",
    "    template = \"\"\"Answer the question based only on the following context:\n",
    "    {context}\n",
    "\n",
    "    Question: {question}\n",
    "    \"\"\"\n",
    "    ANSWER_PROMPT = ChatPromptTemplate.from_template(template)\n",
    "\n",
    "    DEFAULT_DOCUMENT_PROMPT = PromptTemplate.from_template(template=\"{page_content}\")\n",
    "    return CONDENSE_QUESTION_PROMPT, ANSWER_PROMPT, DEFAULT_DOCUMENT_PROMPT"
   ]
  },
  {
   "cell_type": "code",
   "execution_count": 6,
   "metadata": {},
   "outputs": [],
   "source": [
    "def _combine_documents(\n",
    "    docs, document_prompt, document_separator=\"\\n\\n\"\n",
    "):\n",
    "    doc_strings = [format_document(doc, document_prompt) for doc in docs]\n",
    "    return document_separator.join(doc_strings)"
   ]
  },
  {
   "cell_type": "code",
   "execution_count": 8,
   "metadata": {},
   "outputs": [],
   "source": [
    "def create_chain(\n",
    "    memory: ConversationBufferMemory, \n",
    "    faiss_retriever: VectorStoreRetriever, \n",
    "    CONDENSE_QUESTION_PROMPT: PromptTemplate, \n",
    "    ANSWER_PROMPT: PromptTemplate, \n",
    "    DEFAULT_DOCUMENT_PROMPT: PromptTemplate\n",
    "):\n",
    "    # First we add a step to load memory\n",
    "    # This adds a \"memory\" key to the input object\n",
    "    loaded_memory = RunnablePassthrough.assign(\n",
    "        chat_history=RunnableLambda(memory.load_memory_variables) | itemgetter(\"history\"),\n",
    "    )\n",
    "    # Now we calculate the standalone question\n",
    "    standalone_question = {\n",
    "        \"standalone_question\": {\n",
    "            \"question\": lambda x: x[\"question\"],\n",
    "            \"chat_history\": lambda x: get_buffer_string(x[\"chat_history\"]),\n",
    "        }\n",
    "        | CONDENSE_QUESTION_PROMPT\n",
    "        | ChatOpenAI(temperature=0)\n",
    "        | StrOutputParser(),\n",
    "    }\n",
    "\n",
    "    # Now we retrieve the documents\n",
    "    retrieved_documents = {\n",
    "        \"docs\": itemgetter(\"standalone_question\") | faiss_retriever,\n",
    "        \"question\": lambda x: x[\"standalone_question\"],\n",
    "    }\n",
    "\n",
    "    # Now we construct the inputs for the final prompt\n",
    "    final_inputs = {\n",
    "        \"context\": lambda x: _combine_documents(docs= x[\"docs\"], document_prompt=DEFAULT_DOCUMENT_PROMPT),\n",
    "        \"question\": itemgetter(\"question\"),\n",
    "    }\n",
    "    # And finally, we do the part that returns the answers\n",
    "    answer = {\n",
    "        \"answer\": final_inputs | ANSWER_PROMPT | ChatOpenAI(), \n",
    "        \"docs\": itemgetter(\"docs\"),\n",
    "    }\n",
    "    # And now we put it all together!\n",
    "    standalone_question = loaded_memory | standalone_question \n",
    "\n",
    "    final_chain = standalone_question | retrieved_documents | answer\n",
    "    return standalone_question, final_chain     "
   ]
  },
  {
   "cell_type": "code",
   "execution_count": 11,
   "metadata": {},
   "outputs": [
    {
     "name": "stdout",
     "output_type": "stream",
     "text": [
      "Running on local URL:  http://127.0.0.1:7865\n",
      "\n",
      "To create a public link, set `share=True` in `launch()`.\n"
     ]
    },
    {
     "data": {
      "text/html": [
       "<div><iframe src=\"http://127.0.0.1:7865/\" width=\"100%\" height=\"500\" allow=\"autoplay; camera; microphone; clipboard-read; clipboard-write;\" frameborder=\"0\" allowfullscreen></iframe></div>"
      ],
      "text/plain": [
       "<IPython.core.display.HTML object>"
      ]
     },
     "metadata": {},
     "output_type": "display_data"
    },
    {
     "data": {
      "text/plain": []
     },
     "execution_count": 11,
     "metadata": {},
     "output_type": "execute_result"
    },
    {
     "name": "stdout",
     "output_type": "stream",
     "text": [
      "{'standalone_question': 'What is the video about?'}\n",
      "{'standalone_question': 'Who wrote the lyrics and music of the song \"Bohemian Rhapsody\" by Queen?'}\n"
     ]
    }
   ],
   "source": [
    "faiss_retriever = generate_retriever_from_videourl(\"https://www.youtube.com/watch?v=fJ9rUzIMcZQ\")\n",
    "memory = ConversationBufferMemory(\n",
    "    return_messages=True, output_key=\"answer\", input_key=\"question\"\n",
    ")\n",
    "CONDENSE_QUESTION_PROMPT, ANSWER_PROMPT, DEFAULT_DOCUMENT_PROMPT = prompts_templates()\n",
    "standalone_question, final_chain = create_chain(faiss_retriever=faiss_retriever, \n",
    "                                                memory=memory, \n",
    "                                                CONDENSE_QUESTION_PROMPT=CONDENSE_QUESTION_PROMPT, \n",
    "                                                ANSWER_PROMPT=ANSWER_PROMPT, \n",
    "                                                DEFAULT_DOCUMENT_PROMPT=DEFAULT_DOCUMENT_PROMPT)\n",
    "def my_chat_function(message: str, history):\n",
    "    input = {\"question\": message, }\n",
    "    print(standalone_question.invoke(input))\n",
    "    response = final_chain.invoke(input)\n",
    "    memory.save_context(input, {\"answer\": response[\"answer\"].content})\n",
    "    memory.load_memory_variables({})\n",
    "\n",
    "    return response[\"answer\"].content\n",
    "demo = gr.ChatInterface(my_chat_function, chatbot=gr.Chatbot(height=300), theme=\"soft\")\n",
    "demo.launch()"
   ]
  },
  {
   "cell_type": "code",
   "execution_count": null,
   "metadata": {},
   "outputs": [],
   "source": []
  }
 ],
 "metadata": {
  "kernelspec": {
   "display_name": ".edu_ml_env",
   "language": "python",
   "name": "python3"
  },
  "language_info": {
   "codemirror_mode": {
    "name": "ipython",
    "version": 3
   },
   "file_extension": ".py",
   "mimetype": "text/x-python",
   "name": "python",
   "nbconvert_exporter": "python",
   "pygments_lexer": "ipython3",
   "version": "3.10.12"
  }
 },
 "nbformat": 4,
 "nbformat_minor": 2
}
