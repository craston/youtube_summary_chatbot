{
 "cells": [
  {
   "cell_type": "code",
   "execution_count": 1,
   "metadata": {},
   "outputs": [
    {
     "name": "stderr",
     "output_type": "stream",
     "text": [
      "/Users/nievescrasto/code/LLM_based_video_query/.llm_query_env/lib/python3.10/site-packages/tqdm/auto.py:21: TqdmWarning: IProgress not found. Please update jupyter and ipywidgets. See https://ipywidgets.readthedocs.io/en/stable/user_install.html\n",
      "  from .autonotebook import tqdm as notebook_tqdm\n"
     ]
    }
   ],
   "source": [
    "import os\n",
    "from dotenv import load_dotenv\n",
    "assert os.getenv(\"OPENAI_API_KEY\") is not None\n",
    "\n",
    "from typing import Any\n",
    "import gradio as gr\n",
    "\n",
    "from langchain_openai import OpenAIEmbeddings\n",
    "from langchain_openai.chat_models import ChatOpenAI\n",
    "\n",
    "from langchain_community.vectorstores.faiss import FAISS\n",
    "\n",
    "from langchain_core.prompts import ChatPromptTemplate\n",
    "from langchain_core.messages import get_buffer_string\n",
    "from langchain_core.runnables import RunnableLambda\n",
    "from langchain_core.runnables import RunnablePassthrough\n",
    "from langchain_core.output_parsers import StrOutputParser\n",
    "from langchain_core.vectorstores import VectorStoreRetriever\n",
    "from langchain.document_loaders import YoutubeLoader\n",
    "from langchain.schema import format_document\n",
    "from langchain.prompts.prompt import PromptTemplate\n",
    "\n",
    "from langchain.memory import ConversationBufferMemory\n",
    "\n",
    "from operator import itemgetter"
   ]
  },
  {
   "cell_type": "code",
   "execution_count": 2,
   "metadata": {},
   "outputs": [],
   "source": [
    "class VideoQueryLLM():\n",
    "    def __init__(self, youtube_url:str) -> None:\n",
    "        self.youtube_url = youtube_url\n",
    "        self.retriever = self.generate_retriever_from_videourl()\n",
    "        self._init_prompts_templates()\n",
    "        self.memory = ConversationBufferMemory(\n",
    "            return_messages=True, output_key=\"answer\", input_key=\"question\"\n",
    "        )\n",
    "        self.standalone_question, self.final_chain = self.create_chain()\n",
    "\n",
    "    def generate_retriever_from_videourl(self) -> VectorStoreRetriever:\n",
    "        transcript_loader = YoutubeLoader.from_youtube_url(self.youtube_url, language=\"en\")\n",
    "        transcript = transcript_loader.load()\n",
    "        oai_embedding_model = OpenAIEmbeddings()\n",
    "        vector_store = FAISS.from_documents(transcript, oai_embedding_model)\n",
    "        faiss_retriever = vector_store.as_retriever()\n",
    "        return  faiss_retriever\n",
    "    \n",
    "    def _init_prompts_templates(self)-> None:\n",
    "        _template = \"\"\"Given the following conversation and a follow up question, \n",
    "        rephrase the follow up question to be a standalone question.\n",
    "\n",
    "        Chat History:\n",
    "        {chat_history}\n",
    "        Follow Up Input: {question}\n",
    "        Standalone question:\"\"\"\n",
    "        self.CONDENSE_QUESTION_PROMPT = PromptTemplate.from_template(_template)\n",
    "\n",
    "        template = \"\"\"Answer the question based only on the following context:\n",
    "        {context}\n",
    "\n",
    "        Question: {question}\n",
    "        \"\"\"\n",
    "        self.ANSWER_PROMPT = ChatPromptTemplate.from_template(template)\n",
    "\n",
    "        self.DEFAULT_DOCUMENT_PROMPT = PromptTemplate.from_template(template=\"{page_content}\")\n",
    "\n",
    "    def _combine_documents(\n",
    "        self, docs, document_prompt, document_separator=\"\\n\\n\"\n",
    "        ):\n",
    "        doc_strings = [format_document(doc, document_prompt) for doc in docs]\n",
    "        return document_separator.join(doc_strings)\n",
    "\n",
    "    def create_chain(self):\n",
    "        # First we add a step to load memory\n",
    "        # This adds a \"memory\" key to the input object\n",
    "        loaded_memory = RunnablePassthrough.assign(\n",
    "            chat_history=RunnableLambda(self.memory.load_memory_variables) | itemgetter(\"history\"),\n",
    "        )\n",
    "        # Now we calculate the standalone question\n",
    "        standalone_question = {\n",
    "            \"standalone_question\": {\n",
    "                \"question\": lambda x: x[\"question\"],\n",
    "                \"chat_history\": lambda x: get_buffer_string(x[\"chat_history\"]),\n",
    "            }\n",
    "            | self.CONDENSE_QUESTION_PROMPT\n",
    "            | ChatOpenAI(temperature=0)\n",
    "            | StrOutputParser(),\n",
    "        }\n",
    "\n",
    "        # Now we retrieve the documents\n",
    "        retrieved_documents = {\n",
    "            \"docs\": itemgetter(\"standalone_question\") | self.retriever,\n",
    "            \"question\": lambda x: x[\"standalone_question\"],\n",
    "        }\n",
    "\n",
    "        # Now we construct the inputs for the final prompt\n",
    "        final_inputs = {\n",
    "            \"context\": lambda x: self._combine_documents(docs= x[\"docs\"], document_prompt=self.DEFAULT_DOCUMENT_PROMPT),\n",
    "            \"question\": itemgetter(\"question\"),\n",
    "        }\n",
    "        # And finally, we do the part that returns the answers\n",
    "        answer = {\n",
    "            \"answer\": final_inputs | self.ANSWER_PROMPT | ChatOpenAI(), \n",
    "            \"docs\": itemgetter(\"docs\"),\n",
    "        }\n",
    "        # And now we put it all together!\n",
    "        standalone_question = loaded_memory | standalone_question \n",
    "\n",
    "        final_chain = standalone_question | retrieved_documents | answer\n",
    "        return standalone_question, final_chain \n"
   ]
  },
  {
   "cell_type": "code",
   "execution_count": 3,
   "metadata": {},
   "outputs": [],
   "source": [
    "def initialize_video_query_llm(youtube_url:str) -> None:\n",
    "    global VideoQueryLLM_obj\n",
    "    VideoQueryLLM_obj =  VideoQueryLLM(youtube_url)\n",
    "\n",
    "    # Check if the YouTube link is valid.\n",
    "    if not youtube_url:\n",
    "        raise gr.Error('Paste a Youtube link')\n",
    "\n",
    "    # Get the URL of the YouTube video.\n",
    "    url = youtube_url.replace('watch?v=', 'embed/')\n",
    "    print(url)\n",
    "\n",
    "    # Create the HTML code for the embedded YouTube video.\n",
    "    embed_html = f\"<iframe width='560' height='315' src={url} title='YouTube video player' \\\n",
    "    frameborder='0' allow='accelerometer; autoplay; clipboard-write; encrypted-media; \\\n",
    "    gyroscope; picture-in-picture; web-share' allowfullscreen></iframe>\"\n",
    "\n",
    "\n",
    "    # Return the HTML code and an empty list.\n",
    "    return embed_html, \"Video transcripted and LLM chain initialized.\"\n"
   ]
  },
  {
   "cell_type": "code",
   "execution_count": 15,
   "metadata": {},
   "outputs": [],
   "source": [
    "def my_chat_function(message: str, history):\n",
    "    input = {\"question\": message, }\n",
    "    if 'VideoQueryLLM_obj' not in globals():\n",
    "        history.append((message, \"Please provide a YouTube link first and Process Video\"))\n",
    "        return \"\", history\n",
    "    print(VideoQueryLLM_obj.standalone_question.invoke(input))\n",
    "    response = VideoQueryLLM_obj.final_chain.invoke(input)\n",
    "    VideoQueryLLM_obj.memory.save_context(input, {\"answer\": response[\"answer\"].content})\n",
    "    VideoQueryLLM_obj.memory.load_memory_variables({})  \n",
    "    history.append((message, response[\"answer\"].content))\n",
    "    return \"\", history"
   ]
  },
  {
   "cell_type": "code",
   "execution_count": 22,
   "metadata": {},
   "outputs": [
    {
     "name": "stdout",
     "output_type": "stream",
     "text": [
      "Running on local URL:  http://127.0.0.1:7872\n",
      "\n",
      "To create a public link, set `share=True` in `launch()`.\n"
     ]
    },
    {
     "data": {
      "text/html": [
       "<div><iframe src=\"http://127.0.0.1:7872/\" width=\"100%\" height=\"500\" allow=\"autoplay; camera; microphone; clipboard-read; clipboard-write;\" frameborder=\"0\" allowfullscreen></iframe></div>"
      ],
      "text/plain": [
       "<IPython.core.display.HTML object>"
      ]
     },
     "metadata": {},
     "output_type": "display_data"
    },
    {
     "data": {
      "text/plain": []
     },
     "execution_count": 22,
     "metadata": {},
     "output_type": "execute_result"
    }
   ],
   "source": [
    "if 'VideoQueryLLM_obj' in globals():\n",
    "    print(\"VideoQueryLLM_obj already exists... so deleting it.\")\n",
    "    del(VideoQueryLLM_obj)    \n",
    "\n",
    "\n",
    "with gr.Blocks(theme=gr.themes.Soft()) as demo:\n",
    "    gr.Markdown(\"# Video GPT-3 Chatbot\")\n",
    "    gr.Markdown(\"Ask a question about the video and the chatbot will answer it.\")\n",
    "    gr.Markdown(\"Paste a YouTube link and let the conversation begin!\")\n",
    "\n",
    "    with gr.Row():\n",
    "        with gr.Column():\n",
    "            inp = gr.Textbox(label = \"Enter YouTube URL here.\")\n",
    "            btn = gr.Button(value=\"Process Video\")\n",
    "            video = gr.HTML(label=True)\n",
    "            disp = gr.Textbox(label=\"Status\")\n",
    "            \n",
    "        with gr.Column():\n",
    "            chatbot = gr.Chatbot(label=\"Ask me anything about the video!\")\n",
    "            msg = gr.Textbox(label=\"Type your message here.\")\n",
    "            clear = gr.ClearButton([msg, chatbot])\n",
    "\n",
    "    msg.submit(my_chat_function, [msg, chatbot], [msg, chatbot])\n",
    "    btn.click(initialize_video_query_llm, inputs=inp, outputs=[video, disp] )\n",
    "\n",
    "demo.launch()"
   ]
  }
 ],
 "metadata": {
  "kernelspec": {
   "display_name": ".edu_ml_env",
   "language": "python",
   "name": "python3"
  },
  "language_info": {
   "codemirror_mode": {
    "name": "ipython",
    "version": 3
   },
   "file_extension": ".py",
   "mimetype": "text/x-python",
   "name": "python",
   "nbconvert_exporter": "python",
   "pygments_lexer": "ipython3",
   "version": "3.10.12"
  }
 },
 "nbformat": 4,
 "nbformat_minor": 2
}
